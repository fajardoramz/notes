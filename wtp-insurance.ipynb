{
 "cells": [
  {
   "cell_type": "markdown",
   "metadata": {},
   "source": [
    "## WTP for insurance\n",
    "\n",
    "Here I follow the notes on [Selection Markets](http://www.andreveiga.com) posted by [Andre Veiga](http://www.andreveiga.com).\n",
    "\n",
    "**Notation**:\n",
    "- $w_0$: initial wealth\n",
    "- $w$: final wealth\n",
    "- $\\theta$: vector of characteristics describing individual type\n",
    "- $u(w; \\theta)$: vNM utility index for type $\\theta$\n",
    "- $l\\in \\mathbf{R}$: random wealth shock\n",
    "- $g(l; \\theta)$: pdf of wealth shock\n",
    "- $G(l, x)$: insurer payment if loss is $l$\n",
    "    - $G(l, x) \\equiv l$ for full insurance\n",
    "    - $G(l, x) \\equiv 0$ for no insurance\n",
    "- $x$: parametrizes generosity of insurance\n",
    "\n",
    "We assume for now that there is no moral hazard: $g(l, \\theta)$ independent of $x$.\n",
    "\n",
    "Willingness to pay for insurance contract paying $G$ is the price $p=v(x, \\theta)$ that makes the consumer indifferent between buying and not buying the contract:\n",
    "\n",
    "$$ \\mathbf{E}_l \\Big[ u(w_0 - l + G(l, x)-v(x, \\theta); \\theta) | \\theta \\Big] = \\mathbf{E}_l \\Big[ u(w_0 - l ; \\theta) | \\theta \\Big]$$\n",
    "\n",
    "**Parametrization**\n",
    "\n",
    "- CARA preferences: $u(c)=-e^{-ac}$\n",
    "- Gaussian wealth shocks: $l \\sim \\mathcal{N}(\\mu, \\sigma^2)$\n",
    "- Co-insurance: insurers absorb a share $x\\in(0, 1)$ of the shock: $G(l, x) = xl$\n",
    "\n",
    "To calculate $v(x, \\theta)$, note that\n",
    "\n",
    "$\\mathbf{E}_l \\Big[ exp(a \\times l)\\Big] = \\exp\\Big(\\frac{a^2\\sigma^2}{2}+a\\mu\\Big)$\n",
    "\n",
    "(This analytical solution to the integral is not trivial - see Gaussian Integrals in Wikipedia)\n",
    "\n",
    "\n",
    "\n",
    "WTP $v(x, \\theta)$ is implicitly defined by \n",
    "\n",
    "\n",
    "$$ e^{-a(w_0-v)}\\mathbf{E}_l \\Big[ e^{a(1-x)l}\\Big] = e^{-aw_0}\\mathbf{E}_l \\Big[ e^{al}\\Big]$$\n",
    "\n",
    "$$ \\Leftrightarrow$$\n",
    "\n",
    "$$ e^{av}\\mathbf{E}_l \\Big[ e^{a(1-x)l}\\Big] = \\mathbf{E}_l \\Big[ e^{al}\\Big]$$\n",
    "\n",
    "$$ \\Leftrightarrow$$\n",
    "\n",
    "$$ \\exp\\Big(av + \\frac{a^2(1-x)^2\\sigma^2}{2}+a(1-x)\\mu\\Big) = \\exp\\Big(\\frac{a^2\\sigma^2}{2}+a\\mu\\Big) $$\n",
    "\n",
    "$$ \\Leftrightarrow$$\n",
    "\n",
    "$$ v = x\\mu + \\frac{1}{2}a\\sigma^2(1-(1-x)^2)$$\n",
    "\n",
    "\n"
   ]
  },
  {
   "cell_type": "markdown",
   "metadata": {},
   "source": [
    "**Import libraries**"
   ]
  },
  {
   "cell_type": "code",
   "execution_count": 5,
   "metadata": {},
   "outputs": [],
   "source": [
    "import numpy as np\n",
    "import matplotlib.pyplot as plt\n",
    "import pandas as pd\n",
    "from scipy.stats import norm\n",
    "from scipy.integrate import quad\n",
    "from scipy.optimize import fsolve\n",
    "from scipy.special import roots_hermite"
   ]
  },
  {
   "cell_type": "markdown",
   "metadata": {},
   "source": [
    "**Consumer class**"
   ]
  },
  {
   "cell_type": "code",
   "execution_count": 17,
   "metadata": {},
   "outputs": [],
   "source": [
    "class Consumer():\n",
    "    \"\"\"Consumer is described by:\n",
    "        - λ: risk aversion parameter of CARA utility, default is 2\n",
    "        - μ: mean of loss distribution, default is 3\n",
    "        - σ: std of loss distribution, default is .3\n",
    "        - w0: initial wealth, default is 10\n",
    "    For setting w_=0 it is important to be mindfull of the scale to avoid overflow\"\"\"\n",
    "\n",
    "    def __init__(self, \n",
    "                 λ = 2,\n",
    "                 μ = 3,\n",
    "                 σ = .3,\n",
    "                 w0 = 10):\n",
    "        # Unpack parameters\n",
    "        self.λ, self.μ, self.σ , self.w0 = λ , μ , σ , w0\n",
    "\n",
    "    def u(self, c):\n",
    "        \"\"\"Cara utility index\"\"\"\n",
    "        return -np.exp(-self.λ * c)\n",
    "    \n",
    "    def f(self, x):\n",
    "        \"\"\"Density of loss distribution\"\"\"\n",
    "        return norm.pdf(x, loc=self.μ, scale=self.σ)\n",
    "\n",
    "    def EU(self, p=0, x=0, n=12):\n",
    "        \"\"\"Expected utility of insurance contract with premium p \n",
    "        that pays a proportion x of the loss, \n",
    "        default is no insurance. Returns analytic solution but also\n",
    "        numerical solution using Gauss-Hermite quadrature\n",
    "        - n is the number of nodes in Gauss-Hermite quadrature\"\"\"\n",
    "        \n",
    "        λ , μ , σ , w0 = self.λ , self.μ , self.σ , self.w0\n",
    "\n",
    "        # Analytic solution\n",
    "        int_a = - np.exp(-λ*(w0-p))*np.exp(.5*(λ*(1-x)*σ)**2 + λ*(1-x)*μ)\n",
    "\n",
    "        # Obtain vectors with nodes and weights\n",
    "        x_w , w = roots_hermite(n)\n",
    "\n",
    "        # Obtain vector of function evaluated at each x\n",
    "        f = np.array([np.exp(λ*(1-x)*(np.sqrt(2)*σ*t + μ)) for t in x_w])\n",
    "        int_n = - np.exp(-λ*(w0-p))*(1/np.sqrt(np.pi))*w@f\n",
    "        return int_a , int_n\n",
    "        \n",
    "    def wtp(self, x=0, n=12):\n",
    "        \"\"\"Willingness to pay for insurance contract\n",
    "        that pays a proportion x of the loss, default is no insurance.\n",
    "        Returns analytic solution but also numerical solution using fsolve\n",
    "        \"\"\"\n",
    "        \n",
    "        λ , μ , σ, w0  = self.λ , self.μ , self.σ, self.w0\n",
    "        \n",
    "        # Analytic solution\n",
    "        wtp_a = x*μ + .5*λ*σ**2*(1-(1-x)**2)\n",
    "\n",
    "        # Define function for numerical solution\n",
    "        def f(v):\n",
    "            f = self.EU(p=v, x=x, n=n)[0] - self.EU(p=0, x=0, n=n)[0]\n",
    "            return f\n",
    "\n",
    "        # Set initial conditions and solve\n",
    "        v0 = .1*w0 # Initial condition is 10% of wealth\n",
    "\n",
    "        try:\n",
    "            sol = fsolve(f, v0)\n",
    "            return wtp_a , sol[0]\n",
    "        \n",
    "        except RuntimeError:\n",
    "            return wtp_a, np.nan"
   ]
  },
  {
   "cell_type": "markdown",
   "metadata": {},
   "source": [
    "**Example:** Create one consumer and calculate WTP and EU of contracts"
   ]
  },
  {
   "cell_type": "code",
   "execution_count": 20,
   "metadata": {},
   "outputs": [
    {
     "name": "stdout",
     "output_type": "stream",
     "text": [
      "Analytic calculation of EU when p=0 and x=0: -9.955206204452296e-07\n",
      "Numerical calcultion of EU when p=0 and x=0: -9.955206204452298e-07\n",
      "Analytic calculation of WTP when x=.2: 0.6324000000000001\n",
      "Numerical calcultion of WTP when x=.2: 0.6323999999999997\n"
     ]
    }
   ],
   "source": [
    "c1 = Consumer()\n",
    "EU = c1.EU()\n",
    "print(f'Analytic calculation of EU when p=0 and x=0: {c1.EU()[0]}')\n",
    "print(f'Numerical calcultion of EU when p=0 and x=0: {c1.EU()[1]}')\n",
    "print(f'Analytic calculation of WTP when x=.2: {c1.wtp(x=.2)[0]}')\n",
    "print(f'Numerical calcultion of WTP when x=.2: {c1.wtp(x=.2)[1]}')"
   ]
  }
 ],
 "metadata": {
  "kernelspec": {
   "display_name": "af-base",
   "language": "python",
   "name": "python3"
  },
  "language_info": {
   "codemirror_mode": {
    "name": "ipython",
    "version": 3
   },
   "file_extension": ".py",
   "mimetype": "text/x-python",
   "name": "python",
   "nbconvert_exporter": "python",
   "pygments_lexer": "ipython3",
   "version": "3.8.16"
  },
  "orig_nbformat": 4
 },
 "nbformat": 4,
 "nbformat_minor": 2
}
