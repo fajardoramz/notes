{
 "cells": [
  {
   "cell_type": "markdown",
   "metadata": {},
   "source": [
    "## Toy Model of Competition on Quality\n",
    "\n",
    "Based on Veiga and Weyl (2016).\n",
    "\n",
    "All functions and classes in duopoly folder\n"
   ]
  },
  {
   "cell_type": "code",
   "execution_count": 2,
   "metadata": {},
   "outputs": [],
   "source": [
    "# Import libraries\n",
    "import matplotlib.pyplot as plt\n",
    "import numpy as np\n",
    "import matplotlib.pyplot as plt\n",
    "from ipywidgets import interactive\n",
    "import ipywidgets as widgets\n",
    "from IPython.display import display"
   ]
  },
  {
   "cell_type": "code",
   "execution_count": 3,
   "metadata": {},
   "outputs": [],
   "source": [
    "# Import model modules\n",
    "from duopoly.toy import ToyDuopoly\n",
    "from duopoly.solvers import *"
   ]
  },
  {
   "cell_type": "markdown",
   "metadata": {},
   "source": [
    "Example with unidimensional types:"
   ]
  },
  {
   "cell_type": "code",
   "execution_count": 4,
   "metadata": {},
   "outputs": [],
   "source": [
    "def plot(p=7, t=2, γ1=2.40, γ2=2.2, μ=10, xmin=.8, xmax=1.2, ymin=-.5, ymax=15):\n",
    "    '''Interactive plot of toy model'''\n",
    "    # Generate x values\n",
    "    x1 = np.linspace(xmin, xmax, 100)\n",
    "    x2 = np.linspace(xmin, xmax, 100)\n",
    "    \n",
    "    toy = ToyDuopoly(t=t, μ=μ, p=p, γ1=γ1, γ2=γ2)\n",
    "    \n",
    "    # Obtain equilibrium values\n",
    "    sol = solve_toy(toy)\n",
    "    x1_eq = sol['x1']\n",
    "    x2_eq = sol['x2']\n",
    "    q1_eq = sol['q1']\n",
    "    q2_eq = sol['q2']\n",
    "    π1_eq = sol['π1']\n",
    "    π2_eq = sol['π2']\n",
    "\n",
    "    # Obtain welfare maximum\n",
    "    wmax = toy.max_welf()\n",
    "    x_eff = wmax[0]\n",
    "    w_eff = wmax[1]\n",
    "\n",
    "    # Create vectors of profits\n",
    "    π1 = toy.π(1, x1, x2_eq)\n",
    "    π2 = toy.π(2, x1_eq, x2)\n",
    "    cs1_eq = toy.cs(1, x1_eq, x2_eq)\n",
    "    cs2_eq = toy.cs(2, x1_eq, x2_eq)\n",
    "    w_eq = toy.w(x1_eq, x2_eq)\n",
    "    \n",
    "    cs1_avg = cs1_eq / q1_eq\n",
    "    cs2_avg = cs2_eq / q2_eq\n",
    "    π1_avg = π1_eq / q1_eq\n",
    "    π2_avg = π2_eq / q2_eq\n",
    "\n",
    "    # Create graph with four axes\n",
    "    fig, ((ax1, ax2), (ax3, ax4)) = plt.subplots(2, 2, figsize=(14, 4))\n",
    "    #fig, ((ax1, ax3)) = plt.subplots(2, 1, figsize=(10, 6))\n",
    "    ax1.plot(x1, π1)\n",
    "    ax1.axvline(x1_eq, color='r', linestyle='--')\n",
    "    ax1.axhline(0, color='black', linewidth=0.5)\n",
    "    ax1.set_ylabel('Profit 1 | x2*')\n",
    "    ax1.set_xlabel('Quality x1')\n",
    "    ax1.set_title(f'x1 ={x1_eq:.2f}, q1 = {q1_eq:.2f}')\n",
    "\n",
    "    ax2.bar(['π1', 'π2', 'cs1_av', 'cs2_av', 'w', 'w_eff'], \n",
    "           [π1_eq, π2_eq, cs1_avg, cs2_avg, w_eq, w_eff], \n",
    "           color=['tab:blue', 'tab:cyan', 'tab:orange', 'tab:pink'])\n",
    "    ax2.set_ylim(ymin, ymax)\n",
    "    ax2.set_title(f'CS and PS, x_eff={x_eff:.2f}, W={w_eq:.2f} , W_eff={w_eff:.2f}')\n",
    "\n",
    "    ax3.plot(x2, π2)\n",
    "    ax3.axhline(0, color='black', linewidth=0.5)\n",
    "    ax3.axvline(x2_eq, color='r', linestyle='--')\n",
    "    ax3.set_ylabel('Profit firm 2 | x1*')\n",
    "    ax3.set_xlabel('Quality x2')\n",
    "    ax3.set_title(f'x2={x2_eq:.2f}, q2={q2_eq:.2f}')\n",
    "    \n",
    "    ax4.axvline(q1_eq, color='tab:blue', linestyle='--')\n",
    "    ax4.set_title(f'Marginal type: b* = {q1_eq:.2f}')\n",
    "    \n",
    "    # set overall title\n",
    "    fig.suptitle(f'Duopoly with constant health')\n",
    "    plt.subplots_adjust(hspace=1)\n",
    "    plt.show()"
   ]
  },
  {
   "cell_type": "code",
   "execution_count": 5,
   "metadata": {},
   "outputs": [
    {
     "data": {
      "application/vnd.jupyter.widget-view+json": {
       "model_id": "50ba0edaae764491b75d208a45b625ff",
       "version_major": 2,
       "version_minor": 0
      },
      "text/plain": [
       "interactive(children=(FloatSlider(value=7.0, description='p', max=15.0, min=5.0), FloatSlider(value=2.0, descr…"
      ]
     },
     "metadata": {},
     "output_type": "display_data"
    }
   ],
   "source": [
    "interactive_plot = interactive(plot, \n",
    "                               x2=(0, 2, .01), p=(5, 15, .1), \n",
    "                               t=(0, 5, .01), γ1=(.4, 3, .01), γ2=(.4, 3, .01),\n",
    "                               μ=(5, 15, .1), xmin=(0, 2, .01), xmax=(0, 2, .01), ymin=(-10, 10, .1), ymax=(-10, 10, .1))\n",
    "interactive_plot"
   ]
  },
  {
   "cell_type": "code",
   "execution_count": 6,
   "metadata": {},
   "outputs": [],
   "source": [
    "toy = ToyDuopoly(p=7, t=2, γ1=2.40, γ2=2.2)"
   ]
  },
  {
   "cell_type": "code",
   "execution_count": 7,
   "metadata": {},
   "outputs": [],
   "source": [
    "sol = solve_toy(toy)"
   ]
  },
  {
   "cell_type": "code",
   "execution_count": 8,
   "metadata": {},
   "outputs": [
    {
     "name": "stdout",
     "output_type": "stream",
     "text": [
      "{'x1': 1.0944594818612887, 'x2': 1.0741870777408509, 'q1': 0.5506810103010946, 'q2': 0.4493189896989054, 'q': 1.0, 'foc_x1': -7.318590178329032e-13, 'foc_x2': 6.865619184281968e-13, 'π1': 1.106314576151256, 'π2': 0.788600008018112}\n"
     ]
    }
   ],
   "source": [
    "print(sol)"
   ]
  },
  {
   "cell_type": "code",
   "execution_count": 9,
   "metadata": {},
   "outputs": [
    {
     "name": "stdout",
     "output_type": "stream",
     "text": [
      "{'x1': 1.0944592674488862, 'x2': 1.0741868682899753, 'q1': 0.5506809978972772, 'q2': 0.4493190021027228, 'q': 1.0, 'foc_x1': 5.985936526009539e-06, 'foc_x2': 5.847816532345007e-06, 'π1': 1.1063156281147501, 'π2': 0.7886009488063643}\n"
     ]
    }
   ],
   "source": [
    "sol = solve_toy(toy, x1_0=.2, x2_0=.2, method='excitingmixing')\n",
    "print(sol)"
   ]
  }
 ],
 "metadata": {
  "kernelspec": {
   "display_name": "base",
   "language": "python",
   "name": "python3"
  },
  "language_info": {
   "codemirror_mode": {
    "name": "ipython",
    "version": 3
   },
   "file_extension": ".py",
   "mimetype": "text/x-python",
   "name": "python",
   "nbconvert_exporter": "python",
   "pygments_lexer": "ipython3",
   "version": "3.9.15"
  }
 },
 "nbformat": 4,
 "nbformat_minor": 2
}
