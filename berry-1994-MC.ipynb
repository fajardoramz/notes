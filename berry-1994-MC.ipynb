{
 "cells": [
  {
   "cell_type": "markdown",
   "metadata": {
    "collapsed": false
   },
   "source": [
    "# Monte Carlo experiments in Berry (1994)"
   ]
  },
  {
   "attachments": {},
   "cell_type": "markdown",
   "metadata": {
    "collapsed": false
   },
   "source": [
    "We need the following libraries"
   ]
  },
  {
   "cell_type": "code",
   "execution_count": 13,
   "metadata": {
    "collapsed": false
   },
   "outputs": [],
   "source": [
    "# Import libraries\n",
    "import pandas as pd\n",
    "import numpy as np\n",
    "from scipy.optimize import fsolve\n",
    "import matplotlib.pyplot as plt\n",
    "import statsmodels.api as sm\n",
    "from statsmodels.iolib.summary2 import summary_col\n",
    "from linearmodels.iv import IV2SLS"
   ]
  },
  {
   "attachments": {},
   "cell_type": "markdown",
   "metadata": {
    "collapsed": false
   },
   "source": [
    "## Model\n",
    "\n",
    "Utility: $u_{ij} = \\beta_0 + \\beta_x x_j + \\sigma_d \\xi_j - \\alpha p_j + \\epsilon_{ij} \\equiv \\delta_j + \\epsilon_{ij}$\n",
    "\n",
    "Marginal cost: $c_j = e^{\\gamma_0 + \\gamma_x x_j + \\sigma_c \\xi_j + \\gamma_w w_j + \\sigma_\\omega \\omega_j}$\n",
    "\n",
    "where:\n",
    "- $i$ indexes individuals\n",
    "- $j\\in{1, 2}$: indexes products\n",
    "- $u_{i0} = \\epsilon_{i0}$: utility of outside good\n",
    "- $\\epsilon_{ij}$: logit error\n",
    "- $x_j$, $\\xi_j$, $w_j$, $\\omega_j$: exogenous data drawn independently from a standard normal distribution.\n",
    "- $\\sigma_d$, $\\sigma_c$, $\\sigma_\\omega$: parameters describing the effect of the unobservables $\\xi$ and $\\omega$\n",
    "- $\\beta_0$, $\\beta_x$, $\\alpha$: parameters to be estimated\n",
    "- $\\gamma_0$, $\\gamma_x$, $\\gamma_w$: parameters of marginal cost function\n",
    "\n",
    "With a duopoly (+ outside option) market shares $s_j$ are given by\n",
    "\n",
    "$s_j = \\frac{e^{\\delta_j}}{1+e^{\\delta_{-j}}+e^{\\delta_j}}$\n",
    "\n",
    "Partial derivative is given by\n",
    "\n",
    "$\\frac{\\partial s_j}{\\partial p_j} = - \\alpha s_j (1 - s_j)$"
   ]
  },
  {
   "attachments": {},
   "cell_type": "markdown",
   "metadata": {},
   "source": [
    "Profits\n",
    "\n",
    "$$\\pi_j= p_j M s_j -  c_j M s_j$$\n",
    "\n",
    "First order condition\n",
    "\n",
    "$$p_j = c_j + \\frac{s_j}{\\mid\\frac{\\partial s_j}{\\partial p_j}\\mid}$$\n",
    "$$p_j = c_j + \\frac{1}{\\alpha (1-s_j)}$$\n",
    "\n",
    "where\n",
    "\n",
    "- $c_j$ is (constant) marginal cost"
   ]
  },
  {
   "attachments": {},
   "cell_type": "markdown",
   "metadata": {},
   "source": [
    "System of non-linear equations:\n",
    "\n",
    "$$p_1 - c_1 - \\frac{1}{\\alpha (1-s_1)} = 0$$\n",
    "\n",
    "$$p_2 - c_2 - \\frac{1}{\\alpha (1-s_2)} = 0$$\n",
    "\n",
    "$$s_1 - \\frac{e^{\\delta_1}}{1+e^{\\delta_{1}}+e^{\\delta_2}} = 0$$\n",
    "\n",
    "$$s_2 - \\frac{e^{\\delta_2}}{1+e^{\\delta_{1}}+e^{\\delta_2}} = 0$$\n",
    "\n",
    "where\n",
    "\n",
    "$$\\delta_j \\equiv \\beta_0 + \\beta_x x_j + \\sigma_d \\xi_j - \\alpha p_j$$\n"
   ]
  },
  {
   "attachments": {},
   "cell_type": "markdown",
   "metadata": {},
   "source": [
    "#### Implement model by defining a class"
   ]
  },
  {
   "cell_type": "code",
   "execution_count": 14,
   "metadata": {},
   "outputs": [],
   "source": [
    "class Duopoly():\n",
    "    r\"\"\"\n",
    "    Implements duopoly market for Berry (1994) Monte Carlo simulation.\n",
    "    \"\"\"\n",
    "    def __init__(self, β_0 = 5, \n",
    "                       β_x = 2, \n",
    "                       α   = 1,\n",
    "                       γ_0 = 1, \n",
    "                       γ_x = .5,\n",
    "                       γ_w = .25, \n",
    "                       σ_ω = .25, \n",
    "                       σ_c = .25, \n",
    "                       σ_d = 1,\n",
    "                       x1  = 0,\n",
    "                       x2  = 0,\n",
    "                       ξ1  = 0,\n",
    "                       ξ2  = 0,\n",
    "                       w1  = 0,\n",
    "                       w2  = 0, \n",
    "                       ω1  = 0,\n",
    "                       ω2  = 0):\n",
    "        \n",
    "        # Unpack demand parameters\n",
    "        self.β_0, self.β_x, self.α, self.σ_d = β_0, β_x, α, σ_d\n",
    "        \n",
    "        # Unpack cost parameters\n",
    "        self.γ_0, self.γ_x, self.γ_w, self.σ_ω, self.σ_c =  γ_0, γ_x, γ_w, σ_ω, σ_c\n",
    "        \n",
    "        # Unpack exogenous characteristics\n",
    "        self.x1, self.x2 = x1, x2\n",
    "        self.ξ1, self.ξ2 = ξ1, ξ2\n",
    "        self.w1, self.w2 = w1, w2\n",
    "        self.ω1, self.ω2 = ω1, ω2\n",
    "        \n",
    "    def update_exogenous(self, seed):\n",
    "        \"\"\"Update exogenous characteristics.\"\"\"\n",
    "        draw = np.random.default_rng(seed).normal(size=8)\n",
    "        self.x1, self.x2, self.ξ1, self.ξ2, self.w1, self.w2, self.ω1, self.ω2 = draw\n",
    "\n",
    "    def δ(self, p, pid=1):\n",
    "        \"\"\"Mean utility for product i as a function of price p.\"\"\"\n",
    "        if pid == 1:\n",
    "            return self.β_0 + self.β_x * self.x1 + self.σ_d * self.ξ1 - self.α * p\n",
    "        elif pid == 2:\n",
    "            return self.β_0 + self.β_x * self.x2 + self.σ_d * self.ξ2 - self.α * p\n",
    "        else:\n",
    "            raise ValueError(\"pid must be 1 or 2\")\n",
    "\n",
    "    def c(self, pid=1):\n",
    "        \"\"\"Marginal cost\"\"\"\n",
    "        # Unpack parameters\n",
    "        γ_0, γ_x, γ_w, σ_ω, σ_c = self.γ_0, self.γ_x, self.γ_w, self.σ_ω, self.σ_c\n",
    "        if pid == 1:\n",
    "            return np.exp(γ_0 + γ_x * self.x1 + σ_c * self.ξ1 + γ_w * self.w1 + σ_ω * self.ω1)\n",
    "        elif pid == 2:\n",
    "            return np.exp(γ_0 + γ_x * self.x2 + σ_c * self.ξ2 + γ_w * self.w2 + σ_ω * self.ω2)\n",
    "        else:\n",
    "            raise ValueError(\"pid must be 1 or 2\")\n",
    "        \n",
    "    def s(self, p1, p2, pid=1):\n",
    "        \"\"\"Demand for product i as a function of prices p1 and p2.\"\"\"\n",
    "        if pid == 1:\n",
    "            return np.exp(self.δ(p1, 1)) / (1 + np.exp(self.δ(p1, 1)) + np.exp(self.δ(p2, 2)))\n",
    "        elif pid == 2:\n",
    "            return np.exp(self.δ(p2, 2)) / (1 + np.exp(self.δ(p1, 1)) + np.exp(self.δ(p2, 2)))\n",
    "        else:\n",
    "            raise ValueError(\"pid must be 1 or 2\")\n",
    "    \n",
    "    def π(self, p1, p2, pid=1):\n",
    "        \"\"\"Profits for product i as a function of prices p1 and p2.\"\"\"\n",
    "        if pid == 1:\n",
    "            return p1 * self.s(p1, p2, 1) - self.c(1) * self.s(p1, p2, 1)\n",
    "        elif pid == 2:\n",
    "            return p2 * self.s(p1, p2, 2) - self.c(2) * self.s(p1, p2, 2)\n",
    "        else:\n",
    "            raise ValueError(\"pid must be 1 or 2\")\n",
    "\n",
    "    def solve_eq(self):\n",
    "        \"\"\"Solve for equilibrium prices and shares using Scipy's fsolve.\n",
    "           Solve the problem for prices a system of two equations in two unknowns.\n",
    "        \"\"\"\n",
    "        # Unpack parameters\n",
    "        α = self.α\n",
    "        # Define function for solver\n",
    "        def f(eq):\n",
    "            p1, p2 = eq\n",
    "            f0 = p1 - self.c(1) - 1 / (α * (1-self.s(p1, p2, 1)))\n",
    "            f1 = p2 - self.c(2) - 1 / (α * (1-self.s(p1, p2, 2)))\n",
    "            return np.array([f0, f1])\n",
    "\n",
    "        # Set initial conditions and solve\n",
    "        eq0 = np.array([.5, .5])\n",
    "        try:\n",
    "            sol = fsolve(f, eq0)\n",
    "            s1 = self.s(sol[0], sol[1], 1)\n",
    "            s2 = self.s(sol[0], sol[1], 2)\n",
    "            return np.append(sol, [s1, s2])\n",
    "        \n",
    "        except RuntimeError:\n",
    "            return np.array([np.nan, np.nan, np.nan, np.nan])\n",
    "\n",
    "\n",
    "    \n",
    "    def simulate_mkt(self, T=500, seed=42):\n",
    "        \"\"\"Generate equilibrium solutions for T markets and save in pandas dataframe.\"\"\"\n",
    "        # Create index for dataframe\n",
    "        tuples = [(x, y) for x in ['p', 's', 'x', 'ξ', 'w', 'ω', 'π' ] for y in ['1', '2']]\n",
    "        index = pd.MultiIndex.from_tuples(tuples, names=['vars', 'firm'])\n",
    "        # Initialize dataframe\n",
    "        df_mkt = pd.DataFrame(columns=index)\n",
    "        df_mkt = df_mkt.rename_axis('mkt_id')\n",
    "        # Loop over markets\n",
    "        for t in range(T):\n",
    "            # Update exogenous characteristics\n",
    "            semilla = 100000*seed + t # Different scale, so we don't get the same draws for i + t = t + i\n",
    "            self.update_exogenous(semilla)\n",
    "            # Solve for equilibrium\n",
    "            eq = self.solve_eq()\n",
    "            # Calculate profits and save equilibrium\n",
    "            π1 = self.π(eq[0], eq[1], 1)\n",
    "            π2 = self.π(eq[0], eq[1], 2)\n",
    "            df_mkt.loc[t] = np.hstack([eq, self.x1, self.x2, self.ξ1, self.ξ2, self.w1, self.w2, self.ω1, self.ω2, π1, π2])\n",
    "        return df_mkt\n",
    "\n",
    "    def simulate_mc(self, T, S):\n",
    "        \"\"\"Simulate and run estimation for S samples, with T markets in each simulation.\"\"\"\n",
    "        # Initialize dataframe\n",
    "        tuples = [(x, y) for x in ['ols', 'iv'] for y in ['β_0', 'β_x', 'α']]\n",
    "        index = pd.MultiIndex.from_tuples(tuples, names=['est', 'param'])\n",
    "        df_mc = pd.DataFrame(columns=index)\n",
    "        print(\"Starting simulation for {} samples with {} markets each...\".format(S, T))\n",
    "        for i in range(S):\n",
    "            print(\"Sample {} of {}\".format(i+1, S))\n",
    "            df_s = self.simulate_mkt(T, i)\n",
    "            # Reshape data to long format where each row is a firm + market\n",
    "            df_s = df_s.stack('firm')\n",
    "\n",
    "            # Aggregate market shares by mkt_id\n",
    "            df_s['s0'] = 1 - df_s.groupby('mkt_id')['s'].transform('sum')\n",
    "\n",
    "            # Create variables for regression\n",
    "            df_s['δ'] = np.log(df_s['s']) - np.log(df_s['s0'])\n",
    "            df_s['const'] = 1\n",
    "            df_s['pn'] = -1 * df_s['p']\n",
    "            # Create variable with the value of x for the other firm\n",
    "            df_s['x_oth'] = df_s.groupby('mkt_id')['x'].transform('sum') - df_s['x']\n",
    "\n",
    "            # Drop if inf\n",
    "            df_s = df_s.replace([np.inf, -np.inf], np.nan)\n",
    "\n",
    "            # Drop if Nan\n",
    "            df_s = df_s.dropna()\n",
    "\n",
    "            # Linear Regression\n",
    "            ols = sm.OLS(endog=df_s['δ'], exog=df_s[['const', 'x', 'pn']]).fit()\n",
    "\n",
    "            # IV Regression\n",
    "            iv = IV2SLS(dependent=df_s['δ'],\n",
    "                        exog=df_s[['const', 'x']],\n",
    "                        endog=df_s['pn'] ,\n",
    "                        instruments=df_s[['w', 'x_oth']]).fit(cov_type='unadjusted')\n",
    "            # Export results\n",
    "            df_mc.loc[i] = np.hstack([ols.params, iv.params])\n",
    "\n",
    "        # Obtain empirical mean and standard error for each parameter and organize in a table\n",
    "        df_mc = df_mc.agg(['mean', 'std']).rename_axis('stats')\n",
    "        df_mc = df_mc.stack('param').reorder_levels(['param', 'stats']).sort_index(level=0).sort_index(axis=1, ascending=False)\n",
    "\n",
    "        # Add True value\n",
    "        df_mc.loc[('α', 'mean'), 'true'] = self.α\n",
    "        df_mc.loc[('β_0', 'mean'), 'true'] = self.β_0\n",
    "        df_mc.loc[('β_x', 'mean'), 'true'] = self.β_x\n",
    "\n",
    "        return df_mc"
   ]
  },
  {
   "cell_type": "markdown",
   "metadata": {
    "collapsed": false
   },
   "source": [
    "#### Run Monte Carlo experiments for $\\sigma_d=1,3$"
   ]
  },
  {
   "cell_type": "code",
   "execution_count": 15,
   "metadata": {},
   "outputs": [],
   "source": [
    "%%capture\n",
    "# Create market object with σ_d = 1\n",
    "m1 = Duopoly(σ_d=1)\n",
    "tab1 = m1.simulate_mc(T=500, S=100)\n",
    "\n",
    "# Create market object with σ_d = 3\n",
    "m3 = Duopoly(σ_d=3)\n",
    "tab3 = m3.simulate_mc(T=500, S=100)"
   ]
  },
  {
   "cell_type": "code",
   "execution_count": 16,
   "metadata": {
    "pycharm": {
     "is_executing": true
    }
   },
   "outputs": [],
   "source": [
    "# Combine data frames and create output table\n",
    "t1, t3 = tab1.copy(), tab3.copy()\n",
    "t1.columns = pd.MultiIndex.from_product([['σ_d = 1'], tab1.columns])\n",
    "t3.columns = pd.MultiIndex.from_product([['σ_d = 3'], tab3.columns])\n",
    "tab = pd.concat([t1, t3], axis=1)\n",
    "tab['order'] = [5, 6, 1, 2, 3, 4]\n",
    "tab = tab.sort_values(by='order', axis=0)\n",
    "del tab['order']\n",
    "tab = tab.drop('true', axis=1, level=1)"
   ]
  },
  {
   "attachments": {},
   "cell_type": "markdown",
   "metadata": {},
   "source": [
    "**Results in the paper**\n",
    "\n",
    "\n",
    "<img src=\"./resources/t1s8berry94.png\" alt=\"tab\" width=\"70%\" height=\"70%\">\n",
    "\n",
    "**Replication results**"
   ]
  },
  {
   "cell_type": "code",
   "execution_count": 17,
   "metadata": {},
   "outputs": [
    {
     "name": "stdout",
     "output_type": "stream",
     "text": [
      "              σ_d = 1             σ_d = 3          \n",
      "est               ols        iv       ols        iv\n",
      "param stats                                        \n",
      "β_0   mean   3.137898  5.037987 -0.851951  5.114327\n",
      "      std    0.209233  0.278901  0.396680  0.930597\n",
      "β_x   mean   1.322600  2.017797  0.014046  2.050721\n",
      "      std    0.073916  0.112454  0.128180  0.347609\n",
      "α     mean   0.629683  1.008993 -0.121830  1.025936\n",
      "      std    0.042591  0.055916  0.078055  0.179668\n"
     ]
    }
   ],
   "source": [
    "# Print \n",
    "print(tab)"
   ]
  },
  {
   "attachments": {},
   "cell_type": "markdown",
   "metadata": {
    "collapsed": false
   },
   "source": [
    "Observations:\n",
    "- Results for columns (1), (2), and (4) are very similar to those in the paper.\n",
    "- Results for column (3) have the opposite sigin for $\\beta_0$ and $\\alpha$, but this is consistent with the analysis in the text.\n",
    "- When S=1000, the estimated coefficients get much closer to the true values for column (4)."
   ]
  }
 ],
 "metadata": {
  "kernelspec": {
   "display_name": "Python 3",
   "language": "python",
   "name": "python3"
  },
  "language_info": {
   "codemirror_mode": {
    "name": "ipython",
    "version": 3
   },
   "file_extension": ".py",
   "mimetype": "text/x-python",
   "name": "python",
   "nbconvert_exporter": "python",
   "pygments_lexer": "ipython3",
   "version": "3.8.16"
  }
 },
 "nbformat": 4,
 "nbformat_minor": 0
}
