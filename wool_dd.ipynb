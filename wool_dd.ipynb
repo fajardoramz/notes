{
 "cells": [
  {
   "cell_type": "markdown",
   "metadata": {},
   "source": [
    "# **Wooldridge (2021) on Diff-in-Diff Estimation**\n",
    "\n",
    "This notebook provides a summary of the Supplemental Material in Wooldridge (2021), which goes over the various ways of implementing Differences-in-Differences estimators with panel data in Stata.\n",
    "\n",
    "For the examples, I use data from the Stata `xtdidregress` command documentation, which comes from Moser and Voena (2012).\n",
    "\n",
    "**Notation:**\n",
    "- $y$: outcome of interest is `uspatents`\n",
    "- $x$: time-invariant covariate is created manually\n",
    "- $w$: dynamic treatment variable is `gotpatent`\n",
    "- $t$: time variable is `year`\n",
    "- $i$: panel unit identifier is `classid`\n",
    "\n",
    "TODO: instead of using patent data, simulate dataset with known treatment effects"
   ]
  },
  {
   "cell_type": "markdown",
   "metadata": {},
   "source": [
    "**Set up the environment:**"
   ]
  },
  {
   "cell_type": "code",
   "execution_count": 23,
   "metadata": {},
   "outputs": [],
   "source": [
    "%%capture\n",
    "import stata_setup\n",
    "stata_setup.config(\"/Applications/Stata/\", \"mp\")"
   ]
  },
  {
   "cell_type": "markdown",
   "metadata": {},
   "source": [
    "**Prepare data:**\n",
    "\n",
    "Define a program that prepares the data for estimation. Note that I create new variables with names that follow the notation in Wooldridge (2021) more closely."
   ]
  },
  {
   "cell_type": "code",
   "execution_count": 24,
   "metadata": {},
   "outputs": [
    {
     "name": "stdout",
     "output_type": "stream",
     "text": [
      "\n"
     ]
    }
   ],
   "source": [
    "%%stata -qui\n",
    "cap program drop prep_data\n",
    "program prep_data\n",
    "\t// Use example dataset from teffects documentation\n",
    "\tclear all\n",
    "\tuse \"https://www.stata-press.com/data/r17/patents\", clear\n",
    "\n",
    "\t// Create variables following notation\n",
    "\tgen  y  = uspatents\n",
    "\tgen  w  = gotpatent\n",
    "\tgen  i  = classid\n",
    "\tgen  t  = year\n",
    "\tegen D  = max(w), by(i)\n",
    "\t\n",
    "\t// Create time-invariant covariate and update outcome variable to account for its effect on y\n",
    "\tgen x1 = rnormal(10, 2)\n",
    "\tbys i (t): replace x1 = x1[1]\n",
    "\treplace y = y + .07*x1\n",
    "end"
   ]
  },
  {
   "cell_type": "markdown",
   "metadata": {},
   "source": [
    "## **DiD estimator with two time periods (no covariates)**\n",
    "\n",
    "Let's first restrict panel to two time periods (1915 and 1930, intervention started in 1919)"
   ]
  },
  {
   "cell_type": "code",
   "execution_count": 25,
   "metadata": {},
   "outputs": [
    {
     "name": "stdout",
     "output_type": "stream",
     "text": [
      "\n"
     ]
    }
   ],
   "source": [
    "%%stata -qui\n",
    "prep_data\n",
    "keep if inlist(year, 1915, 1930)\n",
    "replace t = 1 if year==1915\n",
    "replace t = 2 if year==1930\n",
    "xtset i t\n",
    "gen D_y = D.y"
   ]
  },
  {
   "cell_type": "markdown",
   "metadata": {},
   "source": [
    "Estimand of interest:\n",
    "$$ \\tau_{2, att} \\equiv E[Y_2(1) - Y_2(0) | D= 1]$$\n",
    "\n",
    "The **differences-in-differences estimator** is difference in average changes between treated and control groups.\n",
    "$$ \\hat\\tau_{2, DD} = \\Delta\\bar Y_{treated} - \\Delta\\bar Y_{control}$$\n"
   ]
  },
  {
   "cell_type": "code",
   "execution_count": 26,
   "metadata": {},
   "outputs": [
    {
     "name": "stdout",
     "output_type": "stream",
     "text": [
      "\n",
      ". qui: sum D.y if D==1\n",
      "\n",
      ". loc Dy_bar1 = r(mean)\n",
      "\n",
      ". qui: sum D.y if D==0\n",
      "\n",
      ". loc Dy_bar0 = r(mean)\n",
      "\n",
      ". di \"DD estimator of ATT is: \" \"`=strofreal(`Dy_bar1' - `Dy_bar0)')'\"  \n",
      "DD estimator of ATT is: .1864459\n",
      "\n",
      ". \n"
     ]
    }
   ],
   "source": [
    "%%stata\n",
    "qui: sum D.y if D==1\n",
    "loc Dy_bar1 = r(mean)\n",
    "qui: sum D.y if D==0\n",
    "loc Dy_bar0 = r(mean)\n",
    "di \"DD estimator of ATT is: \" \"`=strofreal(`Dy_bar1' - `Dy_bar0)')'\"  "
   ]
  },
  {
   "cell_type": "markdown",
   "metadata": {},
   "source": [
    "Not let's see the other ways in which we can obtain the same estimator in Stata."
   ]
  },
  {
   "cell_type": "markdown",
   "metadata": {},
   "source": [
    "#### **OLS using cross-section of changes**:\n"
   ]
  },
  {
   "cell_type": "code",
   "execution_count": 27,
   "metadata": {},
   "outputs": [
    {
     "name": "stdout",
     "output_type": "stream",
     "text": [
      "\n",
      ". reg D.y D , robust\n",
      "\n",
      "Linear regression                               Number of obs     =      7,248\n",
      "                                                F(1, 7246)        =       7.38\n",
      "                                                Prob > F          =     0.0066\n",
      "                                                R-squared         =     0.0008\n",
      "                                                Root MSE          =     1.4159\n",
      "\n",
      "------------------------------------------------------------------------------\n",
      "             |               Robust\n",
      "         D.y | Coefficient  std. err.      t    P>|t|     [95% conf. interval]\n",
      "-------------+----------------------------------------------------------------\n",
      "           D |   .1864459   .0686422     2.72   0.007     .0518873    .3210046\n",
      "       _cons |   .1141493   .0171383     6.66   0.000     .0805532    .1477454\n",
      "------------------------------------------------------------------------------\n",
      "\n",
      ". di \"CS OLS estimator of ATT is: \" \"`=strofreal(_b[D])'\" \n",
      "CS OLS estimator of ATT is: .1864459\n",
      "\n",
      ". \n"
     ]
    }
   ],
   "source": [
    "%%stata\n",
    "reg D.y D , robust\n",
    "di \"CS OLS estimator of ATT is: \" \"`=strofreal(_b[D])'\" "
   ]
  },
  {
   "cell_type": "markdown",
   "metadata": {},
   "source": [
    "#### **OLS using panel:**"
   ]
  },
  {
   "cell_type": "code",
   "execution_count": 28,
   "metadata": {},
   "outputs": [
    {
     "name": "stdout",
     "output_type": "stream",
     "text": [
      "\n",
      ". reg y w D 2.t  , vce(cluster i)\n",
      "\n",
      "Linear regression                               Number of obs     =     14,496\n",
      "                                                F(3, 7247)        =      27.86\n",
      "                                                Prob > F          =     0.0000\n",
      "                                                R-squared         =     0.0025\n",
      "                                                Root MSE          =      1.463\n",
      "\n",
      "                                  (Std. err. adjusted for 7,248 clusters in i)\n",
      "------------------------------------------------------------------------------\n",
      "             |               Robust\n",
      "           y | Coefficient  std. err.      t    P>|t|     [95% conf. interval]\n",
      "-------------+----------------------------------------------------------------\n",
      "           w |   .1864459   .0686445     2.72   0.007     .0518826    .3210093\n",
      "           D |  -.2535119   .0526064    -4.82   0.000    -.3566357   -.1503882\n",
      "         2.t |   .1141493   .0171389     6.66   0.000      .080552    .1477466\n",
      "       _cons |   1.130278   .0183807    61.49   0.000     1.094246    1.166309\n",
      "------------------------------------------------------------------------------\n",
      "\n",
      ". di \"Pooled OLS estimator of ATT is: \" \"`=strofreal(_b[w])'\"\n",
      "Pooled OLS estimator of ATT is: .1864459\n",
      "\n",
      ". \n"
     ]
    }
   ],
   "source": [
    "%%stata\n",
    "reg y w D 2.t  , vce(cluster i)\n",
    "di \"Pooled OLS estimator of ATT is: \" \"`=strofreal(_b[w])'\""
   ]
  },
  {
   "cell_type": "markdown",
   "metadata": {},
   "source": [
    "#### **OLS on panel including time-invariant controls:**\n",
    "\n",
    "Nothing changes!"
   ]
  },
  {
   "cell_type": "code",
   "execution_count": 29,
   "metadata": {},
   "outputs": [
    {
     "name": "stdout",
     "output_type": "stream",
     "text": [
      "\n",
      ". reg y w D 2.t x1 , vce(cluster i)\n",
      "\n",
      "Linear regression                               Number of obs     =     14,496\n",
      "                                                F(4, 7247)        =      53.87\n",
      "                                                Prob > F          =     0.0000\n",
      "                                                R-squared         =     0.0134\n",
      "                                                Root MSE          =      1.455\n",
      "\n",
      "                                  (Std. err. adjusted for 7,248 clusters in i)\n",
      "------------------------------------------------------------------------------\n",
      "             |               Robust\n",
      "           y | Coefficient  std. err.      t    P>|t|     [95% conf. interval]\n",
      "-------------+----------------------------------------------------------------\n",
      "           w |   .1864459   .0686469     2.72   0.007      .051878    .3210139\n",
      "           D |  -.2544483   .0515706    -4.93   0.000    -.3555417   -.1533548\n",
      "         2.t |   .1141493   .0171395     6.66   0.000     .0805509    .1477478\n",
      "          x1 |    .075365   .0067233    11.21   0.000     .0621854    .0885446\n",
      "       _cons |   .3763039     .06858     5.49   0.000     .2418671    .5107408\n",
      "------------------------------------------------------------------------------\n",
      "\n",
      ". di \"Estimate is the same when adding time-invariant control to pooled OLS: \" \n",
      "> \"`=strofreal(_b[w])'\"\n",
      "Estimate is the same when adding time-invariant control to pooled OLS: .1864459\n",
      "\n",
      ". \n"
     ]
    }
   ],
   "source": [
    "%%stata\n",
    "reg y w D 2.t x1 , vce(cluster i)\n",
    "di \"Estimate is the same when adding time-invariant control to pooled OLS: \" \"`=strofreal(_b[w])'\""
   ]
  },
  {
   "cell_type": "markdown",
   "metadata": {},
   "source": [
    "#### **Two-way Fixed Effects using panel:**"
   ]
  },
  {
   "cell_type": "code",
   "execution_count": 30,
   "metadata": {},
   "outputs": [
    {
     "name": "stdout",
     "output_type": "stream",
     "text": [
      "\n",
      ". xtreg y w i.t, fe vce(cluster i)\n",
      "\n",
      "Fixed-effects (within) regression               Number of obs     =     14,496\n",
      "Group variable: i                               Number of groups  =      7,248\n",
      "\n",
      "R-squared:                                      Obs per group:\n",
      "     Within  = 0.0082                                         min =          2\n",
      "     Between = 0.0007                                         avg =        2.0\n",
      "     Overall = 0.0013                                         max =          2\n",
      "\n",
      "                                                F(2,7247)         =      32.41\n",
      "corr(u_i, Xb) = -0.0121                         Prob > F          =     0.0000\n",
      "\n",
      "                                  (Std. err. adjusted for 7,248 clusters in i)\n",
      "------------------------------------------------------------------------------\n",
      "             |               Robust\n",
      "           y | Coefficient  std. err.      t    P>|t|     [95% conf. interval]\n",
      "-------------+----------------------------------------------------------------\n",
      "           w |   .1864459   .0686422     2.72   0.007     .0518873    .3210046\n",
      "         2.t |   .1141493   .0171383     6.66   0.000     .0805532    .1477454\n",
      "       _cons |   1.118526   .0083159   134.50   0.000     1.102224    1.134827\n",
      "-------------+----------------------------------------------------------------\n",
      "     sigma_u |  1.2812827\n",
      "     sigma_e |  1.0012267\n",
      "         rho |  .62087681   (fraction of variance due to u_i)\n",
      "------------------------------------------------------------------------------\n",
      "\n",
      ". di \"TWFE estimator of ATT is: \" \"`=strofreal(_b[w])'\" \n",
      "TWFE estimator of ATT is: .1864459\n",
      "\n",
      ". \n"
     ]
    }
   ],
   "source": [
    "%%stata\n",
    "xtreg y w i.t, fe vce(cluster i)\n",
    "di \"TWFE estimator of ATT is: \" \"`=strofreal(_b[w])'\" "
   ]
  },
  {
   "cell_type": "markdown",
   "metadata": {},
   "source": [
    "#### **Random Effects estimator:**\n",
    "(Note that we have to control for $D$)"
   ]
  },
  {
   "cell_type": "code",
   "execution_count": 31,
   "metadata": {},
   "outputs": [
    {
     "name": "stdout",
     "output_type": "stream",
     "text": [
      "\n",
      ". xtreg y w i.t D, re vce(cluster i)\n",
      "\n",
      "Random-effects GLS regression                   Number of obs     =     14,496\n",
      "Group variable: i                               Number of groups  =      7,248\n",
      "\n",
      "R-squared:                                      Obs per group:\n",
      "     Within  = 0.0082                                         min =          2\n",
      "     Between = 0.0007                                         avg =        2.0\n",
      "     Overall = 0.0025                                         max =          2\n",
      "\n",
      "                                                Wald chi2(3)      =      83.59\n",
      "corr(u_i, X) = 0 (assumed)                      Prob > chi2       =     0.0000\n",
      "\n",
      "                                  (Std. err. adjusted for 7,248 clusters in i)\n",
      "------------------------------------------------------------------------------\n",
      "             |               Robust\n",
      "           y | Coefficient  std. err.      z    P>|z|     [95% conf. interval]\n",
      "-------------+----------------------------------------------------------------\n",
      "           w |   .1864459   .0686445     2.72   0.007     .0519051    .3209868\n",
      "         2.t |   .1141493   .0171389     6.66   0.000     .0805576     .147741\n",
      "           D |  -.2535119   .0526064    -4.82   0.000    -.3566185   -.1504054\n",
      "       _cons |   1.130278   .0183807    61.49   0.000     1.094252    1.166303\n",
      "-------------+----------------------------------------------------------------\n",
      "     sigma_u |   1.066697\n",
      "     sigma_e |  1.0012267\n",
      "         rho |  .53162823   (fraction of variance due to u_i)\n",
      "------------------------------------------------------------------------------\n",
      "\n",
      ". di \"RE estimator of ATT is: \" \"`=strofreal(_b[w])'\"\n",
      "RE estimator of ATT is: .1864459\n",
      "\n",
      ". \n"
     ]
    }
   ],
   "source": [
    "%%stata\n",
    "xtreg y w i.t D, re vce(cluster i)\n",
    "di \"RE estimator of ATT is: \" \"`=strofreal(_b[w])'\""
   ]
  },
  {
   "cell_type": "markdown",
   "metadata": {},
   "source": [
    "#### **Stata `xtdidreg` command:**"
   ]
  },
  {
   "cell_type": "code",
   "execution_count": 32,
   "metadata": {},
   "outputs": [
    {
     "name": "stdout",
     "output_type": "stream",
     "text": [
      "\n",
      ". xtdidreg (y) (w), group(i) time(t) vce(cluster i)\n"
     ]
    },
    {
     "name": "stdout",
     "output_type": "stream",
     "text": [
      "\n",
      "Number of groups and treatment time\n",
      "\n",
      "Time variable: t\n",
      "Control:       w = 0\n",
      "Treatment:     w = 1\n",
      "-----------------------------------\n",
      "             |   Control  Treatment\n",
      "-------------+---------------------\n",
      "Group        |\n",
      "           i |      6912        336\n",
      "-------------+---------------------\n",
      "Time         |\n",
      "     Minimum |         1          2\n",
      "     Maximum |         1          2\n",
      "-----------------------------------\n",
      "\n",
      "Difference-in-differences regression                    Number of obs = 14,496\n",
      "Data type: Longitudinal\n",
      "\n",
      "                                  (Std. err. adjusted for 7,248 clusters in i)\n",
      "------------------------------------------------------------------------------\n",
      "             |               Robust\n",
      "           y | Coefficient  std. err.      t    P>|t|     [95% conf. interval]\n",
      "-------------+----------------------------------------------------------------\n",
      "ATET         |\n",
      "           w |\n",
      "   (1 vs 0)  |   .1864459   .0686422     2.72   0.007     .0518873    .3210046\n",
      "------------------------------------------------------------------------------\n",
      "Note: ATET estimate adjusted for panel effects and time effects.\n",
      "\n",
      ". matrix b = e(b)\n",
      "\n",
      ". di \"DD estimator of ATT is: \" \"`=strofreal(b[1, 1])'\"\n",
      "DD estimator of ATT is: .1864459\n",
      "\n",
      ". \n"
     ]
    }
   ],
   "source": [
    "%%stata\n",
    "xtdidreg (y) (w), group(i) time(t) vce(cluster i)\n",
    "matrix b = e(b)\n",
    "di \"DD estimator of ATT is: \" \"`=strofreal(b[1, 1])'\""
   ]
  },
  {
   "cell_type": "markdown",
   "metadata": {},
   "source": [
    "## **Regression Adjustment (RA) estimator with T=2 and time-invariant covariates**"
   ]
  },
  {
   "cell_type": "markdown",
   "metadata": {},
   "source": [
    "Under NA, CCT, and OL assumptions, we can apply standard methods for treatment effect analysis to \n",
    "\n",
    "$$ (\\{\\Delta Y_i , D_i, X_i): i=1, ..., N\\}$$\n",
    "\n",
    "### **Regression Adjustment estimator (imputation approach):**\n",
    "\n",
    "$$ \\hat\\tau_{2, RA} = \\Delta\\bar Y_{treated} - (\\hat\\alpha_0 + \\bar X_1\\hat\\beta_0)$$\n",
    "\n",
    "where\n",
    "- $\\hat\\alpha_0$ and $\\hat\\beta_0$ are estimated using untreated observations\n",
    "- $\\bar X_1$ is the average of the time-invariant covariate for the treated group"
   ]
  },
  {
   "cell_type": "code",
   "execution_count": 33,
   "metadata": {},
   "outputs": [
    {
     "name": "stdout",
     "output_type": "stream",
     "text": [
      "\n",
      ". // Estimate parameters using non-treated obs only\n",
      ". reg D_y x1 if D==0\n",
      "\n",
      "      Source |       SS           df       MS      Number of obs   =     6,912\n",
      "-------------+----------------------------------   F(1, 6910)      =      0.01\n",
      "       Model |  .023394628         1  .023394628   Prob > F        =    0.9145\n",
      "    Residual |  14028.9127     6,910  2.03023339   R-squared       =    0.0000\n",
      "-------------+----------------------------------   Adj R-squared   =   -0.0001\n",
      "       Total |  14028.9361     6,911  2.02994301   Root MSE        =    1.4249\n",
      "\n",
      "------------------------------------------------------------------------------\n",
      "         D_y | Coefficient  Std. err.      t    P>|t|     [95% conf. interval]\n",
      "-------------+----------------------------------------------------------------\n",
      "          x1 |   -.000908   .0084583    -0.11   0.915    -.0174888    .0156729\n",
      "       _cons |   .1232328   .0863374     1.43   0.154     -.046015    .2924806\n",
      "------------------------------------------------------------------------------\n",
      "\n",
      ".         \n",
      ". // Predict counter-factual\n",
      ". cap drop D_y_0\n",
      "\n",
      ". predict D_y_0 if D==1\n",
      "(option xb assumed; fitted values)\n",
      "(13,824 missing values generated)\n",
      "\n",
      ".         \n",
      ". // Estimate ATT by averaging differences\n",
      ". cap drop te_manual\n",
      "\n",
      ". gen te_manual = D_y - D_y_0 if D==1\n",
      "(14,160 missing values generated)\n",
      "\n",
      ". sum te_manual\n",
      "\n",
      "    Variable |        Obs        Mean    Std. dev.       Min        Max\n",
      "-------------+---------------------------------------------------------\n",
      "   te_manual |        336    .1864572    1.219907  -12.11482   6.885359\n",
      "\n",
      ". di \"Estimated ATT is: \" \"`=strofreal(r(mean))'\" \n",
      "Estimated ATT is: .1864572\n",
      "\n",
      ". \n"
     ]
    }
   ],
   "source": [
    "%%stata\n",
    "// Estimate parameters using non-treated obs only\n",
    "reg D_y x1 if D==0\n",
    "\t\n",
    "// Predict counter-factual\n",
    "cap drop D_y_0\n",
    "predict D_y_0 if D==1\n",
    "\t\n",
    "// Estimate ATT by averaging differences\n",
    "cap drop te_manual\n",
    "gen te_manual = D_y - D_y_0 if D==1\n",
    "sum te_manual\n",
    "di \"Estimated ATT is: \" \"`=strofreal(r(mean))'\" "
   ]
  },
  {
   "cell_type": "markdown",
   "metadata": {},
   "source": [
    "Now let's go over other ways to obtain $\\hat\\tau_{2, RA}$ in Stata. We focus on the approaches that yield valid standard errors."
   ]
  },
  {
   "cell_type": "markdown",
   "metadata": {},
   "source": [
    "### **`teffects` command on changes:**"
   ]
  },
  {
   "cell_type": "code",
   "execution_count": 34,
   "metadata": {},
   "outputs": [
    {
     "name": "stdout",
     "output_type": "stream",
     "text": [
      "\n",
      ". teffects ra (D_y x1) (D), atet\n",
      "\n"
     ]
    },
    {
     "name": "stdout",
     "output_type": "stream",
     "text": [
      "Iteration 0:   EE criterion =  5.325e-33  \n",
      "Iteration 1:   EE criterion =  8.267e-36  \n",
      "\n",
      "Treatment-effects estimation                    Number of obs     =      7,248\n",
      "Estimator      : regression adjustment\n",
      "Outcome model  : linear\n",
      "Treatment model: none\n",
      "------------------------------------------------------------------------------\n",
      "             |               Robust\n",
      "         D_y | Coefficient  std. err.      z    P>|z|     [95% conf. interval]\n",
      "-------------+----------------------------------------------------------------\n",
      "ATET         |\n",
      "           D |\n",
      "   (1 vs 0)  |   .1864572   .0686257     2.72   0.007     .0519532    .3209612\n",
      "-------------+----------------------------------------------------------------\n",
      "POmean       |\n",
      "           D |\n",
      "          0  |    .114138   .0171348     6.66   0.000     .0805545    .1477216\n",
      "------------------------------------------------------------------------------\n",
      "\n",
      ". di \"Estimated ATT is: \" \"`=strofreal(_b[ATET:r1vs0.D])'\" \n",
      "Estimated ATT is: .1864572\n",
      "\n",
      ". \n"
     ]
    }
   ],
   "source": [
    "%%stata\n",
    "teffects ra (D_y x1) (D), atet\n",
    "di \"Estimated ATT is: \" \"`=strofreal(_b[ATET:r1vs0.D])'\" "
   ]
  },
  {
   "cell_type": "markdown",
   "metadata": {},
   "source": [
    "### **OLS using cross-section of changes:**\n"
   ]
  },
  {
   "cell_type": "code",
   "execution_count": 35,
   "metadata": {},
   "outputs": [
    {
     "name": "stdout",
     "output_type": "stream",
     "text": [
      "\n",
      ". qui: reg D_y i.D##c.x1 , vce(robust)\n",
      "\n",
      ". margins , dydx(i.D) subpop(D) vce(uncond)\n",
      "\n",
      "Average marginal effects                               Number of obs   = 7,248\n",
      "                                                       Subpop. no. obs =   336\n",
      "\n",
      "Expression: Linear prediction, predict()\n",
      "dy/dx wrt:  1.D\n",
      "\n",
      "------------------------------------------------------------------------------\n",
      "             |            Unconditional\n",
      "             |      dy/dx   std. err.      t    P>|t|     [95% conf. interval]\n",
      "-------------+----------------------------------------------------------------\n",
      "           D |\n",
      "          0  |          0  (empty)\n",
      "          1  |   .1864572   .0686447     2.72   0.007     .0518936    .3210208\n",
      "------------------------------------------------------------------------------\n",
      "Note: dy/dx for factor levels is the discrete change from the base level.\n",
      "\n",
      ". matrix b = r(b)\n",
      "\n",
      ". di \"Estimated ATT is: \" \"`=strofreal(b[1, 2])'\"\n",
      "Estimated ATT is: .1864572\n",
      "\n",
      ". \n"
     ]
    }
   ],
   "source": [
    "%%stata\n",
    "qui: reg D_y i.D##c.x1 , vce(robust)\n",
    "margins , dydx(i.D) subpop(D) vce(uncond)\n",
    "matrix b = r(b)\n",
    "di \"Estimated ATT is: \" \"`=strofreal(b[1, 2])'\""
   ]
  },
  {
   "cell_type": "markdown",
   "metadata": {},
   "source": [
    "### **OLS using panel:**"
   ]
  },
  {
   "cell_type": "code",
   "execution_count": 37,
   "metadata": {},
   "outputs": [
    {
     "name": "stdout",
     "output_type": "stream",
     "text": [
      "\n",
      ". qui: reg y i.w##c.x1 D c.D#c.x1 2.t 2.t#c.x1 , vce(cluster i)\n"
     ]
    },
    {
     "name": "stdout",
     "output_type": "stream",
     "text": [
      "\n",
      ". margins , dydx(i.w) subpop(D) vce(uncond)\n",
      "\n",
      "Average marginal effects                              Number of obs   = 14,496\n",
      "                                                      Subpop. no. obs =    672\n",
      "\n",
      "Expression: Linear prediction, predict()\n",
      "dy/dx wrt:  1.w\n",
      "\n",
      "                                  (Std. err. adjusted for 7,248 clusters in i)\n",
      "------------------------------------------------------------------------------\n",
      "             |            Unconditional\n",
      "             |      dy/dx   std. err.      t    P>|t|     [95% conf. interval]\n",
      "-------------+----------------------------------------------------------------\n",
      "         1.w |   .1864572    .068647     2.72   0.007      .051889    .3210254\n",
      "------------------------------------------------------------------------------\n",
      "Note: dy/dx for factor levels is the discrete change from the base level.\n",
      "\n",
      ". matrix b = r(b)\n",
      "\n",
      ". di \"Estimated ATT is: \" \"`=strofreal(b[1, 2])'\"\n",
      "Estimated ATT is: .1864572\n",
      "\n",
      ". \n"
     ]
    }
   ],
   "source": [
    "%%stata\n",
    "qui: reg y i.w##c.x1 D c.D#c.x1 2.t 2.t#c.x1 , vce(cluster i)\n",
    "margins , dydx(i.w) subpop(D) vce(uncond)\n",
    "matrix b = r(b)\n",
    "di \"Estimated ATT is: \" \"`=strofreal(b[1, 2])'\"\n"
   ]
  }
 ],
 "metadata": {
  "kernelspec": {
   "display_name": "base",
   "language": "python",
   "name": "python3"
  },
  "language_info": {
   "codemirror_mode": {
    "name": "ipython",
    "version": 3
   },
   "file_extension": ".py",
   "mimetype": "text/x-python",
   "name": "python",
   "nbconvert_exporter": "python",
   "pygments_lexer": "ipython3",
   "version": "3.9.15"
  }
 },
 "nbformat": 4,
 "nbformat_minor": 2
}
