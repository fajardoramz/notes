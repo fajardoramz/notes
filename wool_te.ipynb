{
 "cells": [
  {
   "cell_type": "markdown",
   "metadata": {},
   "source": [
    "# **Wooldridge Notes on Treatment Effects Estimation**\n",
    "\n",
    "This notebook provides a summary of the [slides](https://www.dropbox.com/sh/zj91darudf2fica/AADWlJIH9SI3XvtADXgYma0ka/ESTIMATE_DiD?dl=0&preview=slides_0_estimate_did_202112_v2.pdf&subfolder_nav_tracking=1) on treatment effects estimation made publicly available by Jeff Wooldridge, along with practical Stata examples of some of the estimation approaches presented.\n",
    "\n",
    "For these practical examples, I use data from the Stata `teffects` command documentation, which is based on Cattaneo (2010).\n",
    "\n",
    "**Notation:**\n",
    "- $y$: outcome of interest is `bweight`\n",
    "- $X$: covariates are `mmarried` , `mage`, `prenatal1`, `fbaby`\n",
    "- $D$: treatment variable is `mbsmoke`"
   ]
  },
  {
   "cell_type": "markdown",
   "metadata": {},
   "source": [
    "Set up the environment:"
   ]
  },
  {
   "cell_type": "code",
   "execution_count": 1,
   "metadata": {},
   "outputs": [],
   "source": [
    "%%capture\n",
    "import stata_setup\n",
    "stata_setup.config(\"/Applications/Stata/\", \"mp\")"
   ]
  },
  {
   "cell_type": "markdown",
   "metadata": {},
   "source": [
    "**Prepare data:**\n",
    "\n",
    "Here I also create new variables that follow the notation in Wooldridge more closely."
   ]
  },
  {
   "cell_type": "code",
   "execution_count": 6,
   "metadata": {},
   "outputs": [
    {
     "name": "stdout",
     "output_type": "stream",
     "text": [
      "\n",
      ". use \"https://www.stata-press.com/data/r17/cattaneo2\" ,  clear\n"
     ]
    },
    {
     "name": "stdout",
     "output_type": "stream",
     "text": [
      "(Excerpt from Cattaneo (2010) Journal of Econometrics 155: 138–154)\n",
      "\n",
      ". \n",
      ". gen y  = bweight\n",
      "\n",
      ". gen D  = mbsmoke\n",
      "\n",
      ". gen x1 = mmarried\n",
      "\n",
      ". gen x2 = mage\n",
      "\n",
      ". gen x3 = prenatal1\n",
      "\n",
      ". gen x4 = fbaby\n",
      "\n",
      ". \n"
     ]
    }
   ],
   "source": [
    "%%stata\n",
    "use \"https://www.stata-press.com/data/r17/cattaneo2\" ,  clear\n",
    "\n",
    "gen y  = bweight\n",
    "gen D  = mbsmoke\n",
    "gen x1 = mmarried\n",
    "gen x2 = mage\n",
    "gen x3 = prenatal1\n",
    "gen x4 = fbaby"
   ]
  },
  {
   "cell_type": "markdown",
   "metadata": {},
   "source": [
    "## Regression Adjustment (RA)"
   ]
  },
  {
   "cell_type": "markdown",
   "metadata": {},
   "source": [
    "#### **Estimation using `teffects` command**:\n",
    "\n"
   ]
  },
  {
   "cell_type": "code",
   "execution_count": 7,
   "metadata": {},
   "outputs": [
    {
     "name": "stdout",
     "output_type": "stream",
     "text": [
      "\n",
      ". teffects ra (y x1-x4) (D), atet\n"
     ]
    },
    {
     "name": "stdout",
     "output_type": "stream",
     "text": [
      "\n",
      "Iteration 0:   EE criterion =  2.425e-23  \n",
      "Iteration 1:   EE criterion =  1.596e-26  \n",
      "\n",
      "Treatment-effects estimation                    Number of obs     =      4,642\n",
      "Estimator      : regression adjustment\n",
      "Outcome model  : linear\n",
      "Treatment model: none\n",
      "------------------------------------------------------------------------------\n",
      "             |               Robust\n",
      "           y | Coefficient  std. err.      z    P>|z|     [95% conf. interval]\n",
      "-------------+----------------------------------------------------------------\n",
      "ATET         |\n",
      "           D |\n",
      "   (1 vs 0)  |  -223.3017    22.7422    -9.82   0.000    -267.8755   -178.7278\n",
      "-------------+----------------------------------------------------------------\n",
      "POmean       |\n",
      "           D |\n",
      "          0  |   3360.961   12.75749   263.45   0.000     3335.957    3385.966\n",
      "------------------------------------------------------------------------------\n",
      "\n",
      ". di \"Estimated ATT is: \" \"`=strofreal(_b[ATET:r1vs0.D])'\" \n",
      "Estimated ATT is: -223.3017\n",
      "\n",
      ". \n"
     ]
    }
   ],
   "source": [
    "%%stata\n",
    "teffects ra (y x1-x4) (D), atet\n",
    "di \"Estimated ATT is: \" \"`=strofreal(_b[ATET:r1vs0.D])'\" "
   ]
  },
  {
   "cell_type": "markdown",
   "metadata": {},
   "source": [
    "#### **Estimation by manual imputation of counterfactual:**"
   ]
  },
  {
   "cell_type": "code",
   "execution_count": 8,
   "metadata": {},
   "outputs": [
    {
     "name": "stdout",
     "output_type": "stream",
     "text": [
      "\n",
      ". // Estimate parameters using non-treated obs only\n",
      ". qui: reg y x1-x4 if D==0\n",
      "\n",
      ". \n",
      ". // Predict counter-factual\n",
      ". predict y_0 if D==1\n",
      "(option xb assumed; fitted values)\n",
      "(3,778 missing values generated)\n",
      "\n",
      ". \n",
      ". // Estimate ATT by averaging differences\n",
      ". gen te_manual = y - y_0 if D==1\n",
      "(3,778 missing values generated)\n",
      "\n",
      ". sum te_manual\n",
      "\n",
      "    Variable |        Obs        Mean    Std. dev.       Min        Max\n",
      "-------------+---------------------------------------------------------\n",
      "   te_manual |        864   -223.3016    563.9532  -3025.057   1778.878\n",
      "\n",
      ". di \"Estimated ATT is: \" \"`=strofreal(r(mean))'\" \n",
      "Estimated ATT is: -223.3016\n",
      "\n",
      ". \n"
     ]
    }
   ],
   "source": [
    "%%stata\n",
    "// Estimate parameters using non-treated obs only\n",
    "qui: reg y x1-x4 if D==0\n",
    "\n",
    "// Predict counter-factual\n",
    "predict y_0 if D==1\n",
    "\n",
    "// Estimate ATT by averaging differences\n",
    "gen te_manual = y - y_0 if D==1\n",
    "sum te_manual\n",
    "di \"Estimated ATT is: \" \"`=strofreal(r(mean))'\" "
   ]
  },
  {
   "cell_type": "markdown",
   "metadata": {},
   "source": [
    "#### **Estimation by pooled OLS proposed by Wooldridge:**\n",
    "\n",
    "Center covariates around mean of treatment group:"
   ]
  },
  {
   "cell_type": "code",
   "execution_count": 5,
   "metadata": {},
   "outputs": [
    {
     "name": "stdout",
     "output_type": "stream",
     "text": [
      "\n",
      ". cap drop x*_c   \n",
      "\n",
      ". foreach x of varlist x1-x4 {\n",
      "  2.         qui: sum `x' if D==1\n",
      "  3.         gen `x'_c = `x' - r(mean)\n",
      "  4. }\n",
      "\n",
      ". \n"
     ]
    }
   ],
   "source": [
    "%%stata\n",
    "cap drop x*_c\t\n",
    "foreach x of varlist x1-x4 {\n",
    "\tqui: sum `x' if D==1\n",
    "\tgen `x'_c = `x' - r(mean)\n",
    "}"
   ]
  },
  {
   "cell_type": "markdown",
   "metadata": {},
   "source": [
    "Obtain ATT with pooled OLS regression:\n",
    "\n",
    "Note that standard erros not valid, since they don't take into account the sampling variation for the centering of the covariates."
   ]
  },
  {
   "cell_type": "code",
   "execution_count": 30,
   "metadata": {},
   "outputs": [
    {
     "name": "stdout",
     "output_type": "stream",
     "text": [
      "\n",
      ". reg y D x1-x4 c.D#c.(x1_c-x4_c)\n",
      "\n",
      "      Source |       SS           df       MS      Number of obs   =     4,642\n",
      "-------------+----------------------------------   F(9, 4632)      =     33.78\n",
      "       Model |    95778474         9  10642052.7   Prob > F        =    0.0000\n",
      "    Residual |  1.4591e+09     4,632  315005.562   R-squared       =    0.0616\n",
      "-------------+----------------------------------   Adj R-squared   =    0.0598\n",
      "       Total |  1.5549e+09     4,641  335032.156   Root MSE        =    561.25\n",
      "\n",
      "------------------------------------------------------------------------------\n",
      "           y | Coefficient  Std. err.      t    P>|t|     [95% conf. interval]\n",
      "-------------+----------------------------------------------------------------\n",
      "           D |  -223.3016   22.13099   -10.09   0.000    -266.6889   -179.9144\n",
      "          x1 |   160.9513   24.51695     6.56   0.000     112.8864    209.0162\n",
      "          x2 |   2.546828   1.932518     1.32   0.188    -1.241829    6.335484\n",
      "          x3 |   64.40859   25.79682     2.50   0.013     13.83453    114.9826\n",
      "          x4 |   -71.3286   19.45943    -3.67   0.000    -109.4783   -33.17885\n",
      "             |\n",
      "  c.D#c.x1_c |  -27.28955   48.29898    -0.57   0.572    -121.9786    67.39946\n",
      "             |\n",
      "  c.D#c.x2_c |  -9.917709   4.452043    -2.23   0.026    -18.64583   -1.189585\n",
      "             |\n",
      "  c.D#c.x3_c |  -39.29726   50.95799    -0.77   0.441    -139.1992    60.60468\n",
      "             |\n",
      "  c.D#c.x4_c |   112.7685   46.38739     2.43   0.015     21.82714    203.7099\n",
      "             |\n",
      "       _cons |   3202.746   51.12177    62.65   0.000     3102.523    3302.969\n",
      "------------------------------------------------------------------------------\n",
      "\n",
      ". di \"Estimated ATT is: \" \"`=strofreal(_b[D])'\"\n",
      "Estimated ATT is: -223.3016\n",
      "\n",
      ". \n"
     ]
    }
   ],
   "source": [
    "%%stata \n",
    "reg y D x1-x4 c.D#c.(x1_c-x4_c)\n",
    "di \"Estimated ATT is: \" \"`=strofreal(_b[D])'\""
   ]
  },
  {
   "cell_type": "markdown",
   "metadata": {},
   "source": [
    "To obtain valid standard errors, use original covariates and `margins` command:\n"
   ]
  },
  {
   "cell_type": "code",
   "execution_count": 31,
   "metadata": {},
   "outputs": [
    {
     "name": "stdout",
     "output_type": "stream",
     "text": [
      "\n",
      ". qui: reg y i.D x1-x4 i.D#c.(x1-x4) , vce(robust)\n",
      "\n",
      ". margins , dydx(i.D) subpop(D) vce(uncond)\n"
     ]
    },
    {
     "name": "stdout",
     "output_type": "stream",
     "text": [
      "\n",
      "Average marginal effects                               Number of obs   = 4,642\n",
      "                                                       Subpop. no. obs =   864\n",
      "\n",
      "Expression: Linear prediction, predict()\n",
      "dy/dx wrt:  1.D\n",
      "\n",
      "------------------------------------------------------------------------------\n",
      "             |            Unconditional\n",
      "             |      dy/dx   std. err.      t    P>|t|     [95% conf. interval]\n",
      "-------------+----------------------------------------------------------------\n",
      "           D |\n",
      "          0  |          0  (empty)\n",
      "          1  |  -223.3017   22.76673    -9.81   0.000    -267.9353    -178.668\n",
      "------------------------------------------------------------------------------\n",
      "Note: dy/dx for factor levels is the discrete change from the base level.\n",
      "\n",
      ". matrix b = r(b)\n",
      "\n",
      ". di \"Estimated ATT is: \" \"`=strofreal(b[1, 2])'\"\n",
      "Estimated ATT is: -223.3017\n",
      "\n",
      ". \n"
     ]
    }
   ],
   "source": [
    "%%stata\n",
    "qui: reg y i.D x1-x4 i.D#c.(x1-x4) , vce(robust)\n",
    "margins , dydx(i.D) subpop(D) vce(uncond)\n",
    "matrix b = r(b)\n",
    "di \"Estimated ATT is: \" \"`=strofreal(b[1, 2])'\"\n"
   ]
  }
 ],
 "metadata": {
  "kernelspec": {
   "display_name": "base",
   "language": "python",
   "name": "python3"
  },
  "language_info": {
   "codemirror_mode": {
    "name": "ipython",
    "version": 3
   },
   "file_extension": ".py",
   "mimetype": "text/x-python",
   "name": "python",
   "nbconvert_exporter": "python",
   "pygments_lexer": "ipython3",
   "version": "3.9.15"
  }
 },
 "nbformat": 4,
 "nbformat_minor": 2
}
