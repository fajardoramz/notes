{
 "cells": [
  {
   "cell_type": "markdown",
   "metadata": {},
   "source": [
    "# **Regression Discontinuity Designs**"
   ]
  },
  {
   "cell_type": "markdown",
   "metadata": {},
   "source": [
    "Following Wooldridge (2010), CH 21.5"
   ]
  },
  {
   "cell_type": "code",
   "execution_count": null,
   "metadata": {},
   "outputs": [],
   "source": [
    "import stata_setup\n",
    "stata_setup.config(\"/Applications/Stata/\", \"mp\")"
   ]
  },
  {
   "cell_type": "markdown",
   "metadata": {},
   "source": [
    "## Sharp Discontinuity Design (SRD)\n",
    "\n",
    "### **Notation:**\n",
    "- $y_0, y_1$ : potential outcomes\n",
    "- $x$ : forcing variable\n",
    "- $w = 1[x_i \\geq c] $: treatment in SRD\n",
    "- $c$ : cutoff\n",
    "- $y = y_0(1-w) + y_1w$ : observed outcome\n",
    "- $\\mu_g(x) \\equiv E[y_g | x]$ : counterfactual conditional mean of $y_g$\n",
    "- $\\mu_{gc} \\equiv \\mu_g(c)$ : counterfactual mean at the cutoff\n",
    "- $m(x) \\equiv E[y|x]$ : conditional mean in terms of observables\n",
    "- $m_g(x) \\equiv E[y | x, w = g]$: conditional mean in terms of observables\n",
    "- $m^+(c) \\equiv \\lim_{x\\downarrow c} m(x)$ : limit from the right of $m(x)$\n",
    "- $m^-(c) \\equiv \\lim_{x\\uparrow c} m(x)$ : limit from the left of $m(x)$\n",
    "- $\\tau_c \\equiv E[y_1-y_0|x=c] = \\mu_1(c) - \\mu_0(c)$ : **treatment effect at the cutoff**\n",
    "\n",
    "**Observed variables:** $(y, x, w)$\n",
    "\n",
    "### **Assumptions:**\n",
    "- **Continuity:** $\\mu_g(x)$ is continuous at $x=c$ for $g=0,1$\n",
    "- **Ignorability:** $E[y_g|x, w] = E[y_g | x]$ for $g=0,1$\n",
    "    - holds because $w$ is determined by $x$\n",
    "\n",
    "- Note that\n",
    "    1. Overlap assumption fails, so we cannot use propensity score weighting\n",
    "    2. Regression adjustment could work, but it would rely on potentially unreasonable extrapolations\n",
    "\n",
    "\n",
    "\n",
    "### **Identification:**\n",
    "\n",
    "We have that\n",
    "\n",
    "$$ m(x) = 1[x<c]\\mu_0(x) + 1[x\\geq c]\\mu_1(x)$$\n",
    "\n",
    "Hence, by continuity, $m^+(c) = \\mu_1(c)$ and $m^-(c) = \\mu_0(c)$\n",
    "\n",
    "So that $\\tau_c = m^+(c) - m^-(c)$\n",
    "\n",
    "### **Estimation:**\n",
    "\n",
    "#### **Local linear regression**\n",
    "\n",
    "Model of counterfactual outcomes (note that intercept has mean interpretation because we center $x$ at $c$):\n",
    "\n",
    "$$ y_0 = \\mu_{0c} + \\beta_0(x-c) + u_0 $$\n",
    "$$ y_1 = \\mu_{1c} + \\beta_1(x-c) + u_1 $$\n",
    "\n",
    "In terms of observables $y, x, w$, we have the following regression model:\n",
    "\n",
    "$$ y = \\mu_{0c} + \\tau_c w + \\beta_0(x-c) + \\delta w  (x-c) + u $$\n",
    "\n",
    "where $u = wu_1 + (1-w)u_0$\n",
    "\n",
    "- Run the regresion choosing a small window $c-h < x <c+h$, can add polynomials and their interactions with $w$ for extra flexibility.\n",
    "- Can also run separate regressions for the subgroups below and above threshold and then $\\hat{\\tau}_c = \\hat{\\mu}_{1c} - \\hat{\\mu}_{0c}$\n",
    "- Imbens and Kalyanaraman (2009) for bandwidth selection\n",
    "- Can add regressors (not needed for identification, but can improve precision)\n",
    "- According to Imbens and Lemieux (2008), adding regressors can help reduce bias from deterioration of the linear approximation.\n",
    "- For limited dependent variable can use local versions of other estimators: Poisson, Logit, Probit, etc.\n",
    "   - Example: $\\hat{\\tau}_c = exp(\\hat{\\alpha}_1 + \\hat{\\beta}_1c) - exp(\\hat{\\alpha}_0 + \\hat{\\beta}_0c)$\n",
    "\n"
   ]
  },
  {
   "cell_type": "code",
   "execution_count": null,
   "metadata": {},
   "outputs": [],
   "source": [
    "%%stata\n",
    "\n",
    "* Local regressions\n",
    "\n"
   ]
  },
  {
   "cell_type": "markdown",
   "metadata": {},
   "source": [
    "## Fuzzy Regression Discontinuity Design (FRD)\n",
    "\n",
    "### **Notation:**\n",
    "- $P(x=1|x)\\equiv F(x)$: propensity score as a function of $x$\n",
    "\n",
    "\n",
    "### **Extra assumptions:**\n",
    "- $F(\\cdot)$ is discontinuous at $c$: discrete jump in prob. of treatment at $c$\n",
    "- $y_1-y_0$: independent of $w$ given $x$\n",
    "\n",
    "### **Identification:**\n",
    "\n",
    "$$m(x) = \\mu_0 + E[w|x]\\cdot \\tau(x) $$\n",
    "\n",
    "Take limits to obtain: $m^+(c) = \\mu_{0c} + F^+(c)\\tau_c$ and $m^-(c) = \\mu_{0c} + F^-(c)\\tau_c$\n",
    "\n",
    "If $F^+(c) \\neq F^-(c)$, then \n",
    "\n",
    "$$\\tau_c = \\frac{m^+(c) - m^-(c)}{F^+(c) - F^-(c)}$$\n",
    "\n",
    "### **Estimation:**\n",
    "We can estimate $\\tau_c$ by consistently estimating each of the quantities in the expresison above (e.g., by running four separate regressions, or using logit for the propensity scores):\n",
    "\n",
    "$$ \\hat\\tau_c = \\frac{\\hat m^+(c) - \\hat m^-(c)}{\\hat F^+(c) - \\hat F^-(c)}$$\n",
    "\n",
    "For simple inference, use local IV estimator (restricting sample to a small window around $c$) using $z_i\\equiv 1[x_i\\geq c]$ as an instrument for $w_i$ in the following equation:\n",
    "\n",
    "$$y_i = \\alpha_{0c} + \\tau_c w_i + \\beta_0(x_i-c)+\\delta 1[x_i\\geq c]\\cdot (x_i-c) + e_i$$\n"
   ]
  },
  {
   "cell_type": "markdown",
   "metadata": {},
   "source": [
    "### **Tests**:\n",
    "\n",
    "- Continuity of $\\mu_{gc}$ may be violated if $x$ is manipulated (introduces selection).\n",
    "- With no manipulation, we expect density of $x$ to be continuous at $c$.\n",
    "- Visual check of histogram may be enough, but can also perform McCrary (2008) test of discontinuity in density of $x$ at $c$."
   ]
  },
  {
   "cell_type": "markdown",
   "metadata": {},
   "source": []
  },
  {
   "cell_type": "markdown",
   "metadata": {},
   "source": []
  }
 ],
 "metadata": {
  "kernelspec": {
   "display_name": "base",
   "language": "python",
   "name": "python3"
  },
  "language_info": {
   "codemirror_mode": {
    "name": "ipython",
    "version": 3
   },
   "file_extension": ".py",
   "mimetype": "text/x-python",
   "name": "python",
   "nbconvert_exporter": "python",
   "pygments_lexer": "ipython3",
   "version": "3.9.15"
  }
 },
 "nbformat": 4,
 "nbformat_minor": 2
}
