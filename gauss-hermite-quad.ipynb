{
 "cells": [
  {
   "cell_type": "markdown",
   "metadata": {},
   "source": [
    "### Numerical Computation of Multidimensional Integrals Using Gauss-Hermite Quadrature Rules\n",
    "\n",
    "Here I follow Mark van der Wilk's [notes](https://gist.github.com/markvdw/f9ca12c99484cf2a881e84cb515b86c8) and extend to the case of a lognormal distribution.\n",
    "\n",
    "TODO: Add introduction and change of variables.\n",
    "\n",
    "TODO: Add reference to Chris Conlon's lecture notes and videos."
   ]
  },
  {
   "cell_type": "code",
   "execution_count": 1,
   "metadata": {},
   "outputs": [],
   "source": [
    "# Import libraries\n",
    "import numpy as np\n",
    "from scipy.special import roots_hermite\n",
    "from scipy.stats import lognorm"
   ]
  },
  {
   "cell_type": "code",
   "execution_count": 2,
   "metadata": {},
   "outputs": [
    {
     "name": "stdout",
     "output_type": "stream",
     "text": [
      "Estimated μ: [1.00000000e+00 2.77555756e-16]\n",
      "Estimated Σ: [[ 1.3   -0.213]\n",
      " [-0.213  1.2  ]]\n"
     ]
    }
   ],
   "source": [
    "# Example from Mark van der Wilk's notes\n",
    "μ = np.array([1, 0])\n",
    "Σ = np.array([[1.3, -0.213], [-0.213, 1.2]])\n",
    "L = np.linalg.cholesky(Σ)\n",
    "N = 2\n",
    "c = np.pi**(-0.5*N)\n",
    "x, w = roots_hermite(100)\n",
    "\n",
    "X1, X2 = np.meshgrid(x, x)\n",
    "W1, W2 = np.meshgrid(w, w)\n",
    "\n",
    "X = np.vstack((X1.flatten(), X2.flatten())).T\n",
    "W = np.multiply(W1.flatten(), W2.flatten())\n",
    "\n",
    "\n",
    "Y = np.sqrt(2)*(L@X.T).T + μ[None, :]\n",
    "\n",
    "# Check that weights add up to one\n",
    "np.sum(c*W)\n",
    "\n",
    "# Check that the mean is correct\n",
    "μ_res = c*W@Y\n",
    "print(f'Estimated μ: {μ_res}')\n",
    "\n",
    "# Check that the covariance is correct\n",
    "cov = lambda x: np.outer(x-μ, x-μ)\n",
    "F = np.array([cov(y) for y in Y])\n",
    "Σ_res = np.sum(c*W[:, None, None]*F, axis=0)\n",
    "print(f'Estimated Σ: {Σ_res}')\n"
   ]
  },
  {
   "cell_type": "markdown",
   "metadata": {},
   "source": [
    "## Let's now try with bivariate lognormal\n",
    "\n",
    "Suppose $x, y$ are distributed joint lognormal so that $\\log{x}, \\log{y}$ are distributed jointly normal with the parametrization above.\n",
    "\n",
    "The expected values, variances and covariances are given by\n",
    "\n",
    "- $\\mathbb{E}[x] = \\exp({\\mu_x+\\frac{1}{2}V_x})$\n",
    "- $\\mathbb{E}[y] = \\exp({\\mu_y+\\frac{1}{2}V_y})$ \n",
    "- $\\mathbb{V}[x]=\\mathbb{E}[x]^2(\\exp(V_x)-1)$\n",
    "- $\\mathbb{V}[y]=\\mathbb{E}[y]^2(\\exp(V_y)-1)$\n",
    "- $\\mathbb{Cov}[x, y]=\\mathbb{E}[x]\\mathbb{E}[y](\\exp(C)-1)$\n",
    "\n",
    "where $\\mu_x=1$, $\\mu_y=0$, $V_x=1.3$, $V_y=1.2$, $C=-0.213$ are the parameters of the joint normal distribution in the first example.\n"
   ]
  },
  {
   "cell_type": "code",
   "execution_count": 3,
   "metadata": {},
   "outputs": [
    {
     "name": "stdout",
     "output_type": "stream",
     "text": [
      "True means py: [5.20697983 1.8221188 ]\n",
      "\n",
      "True variances py: 72.37167672127596, 7.70305945790505\n",
      "\n",
      "True means analytic: 5.206979827179849, 1.8221188003905089\n",
      "\n",
      "True variances analytic: 72.37167672127592, 7.703059457905053\n",
      "\n",
      "True covariance analytic: -1.8201638919165706\n",
      "\n",
      "Estimated μ: [5.20697983 1.8221188 ]\n",
      "\n",
      "Estimated Σ: [[72.37167672 -1.82016389]\n",
      " [-1.82016389  7.70305946]]\n",
      "\n"
     ]
    }
   ],
   "source": [
    "# Obtain the true values of means and variances from Python (doesn't give covariance)\n",
    "mean_py_x = lognorm.mean(s=np.sqrt(Σ[0, 0]), scale=np.exp(μ[0]))\n",
    "mean_py_y = lognorm.mean(s=np.sqrt(Σ[1, 1]), scale=np.exp(μ[1]))\n",
    "mean_py = np.array([mean_py_x, mean_py_y])\n",
    "\n",
    "var_true_x = lognorm.var(s=np.sqrt(Σ[0, 0]), scale=np.exp(μ[0]))\n",
    "var_true_y = lognorm.var(s=np.sqrt(Σ[1, 1]), scale=np.exp(μ[1]))\n",
    "\n",
    "print(f'True means py: {mean_py}\\n')\n",
    "\n",
    "print(f'True variances py: {var_true_x}, {var_true_y}\\n')\n",
    "\n",
    "# Obtain analytic true values (see notes on Veiga and Weyl(2016))\n",
    "mean_x = np.exp(μ[0]+.5*Σ[0, 0])\n",
    "mean_y = np.exp(μ[1]+.5*Σ[1, 1])\n",
    "var_x = mean_x**2*(np.exp(Σ[0, 0])-1)\n",
    "var_y = mean_y**2*(np.exp(Σ[1, 1])-1)\n",
    "cov_x_y = mean_x*mean_y*(np.exp(Σ[0, 1])-1)\n",
    "mean = np.array([mean_x, mean_y]) \n",
    "\n",
    "print(f'True means analytic: {mean_x}, {mean_y}\\n')\n",
    "\n",
    "print(f'True variances analytic: {var_x}, {var_y}\\n')\n",
    "\n",
    "print(f'True covariance analytic: {cov_x_y}\\n')\n",
    "\n",
    "\n",
    "# Compute estimations using quadrature\n",
    "mean_res = c*W@np.exp(Y)\n",
    "print(f'Estimated μ: {mean_res}\\n')\n",
    "\n",
    "cov_ln = lambda x: np.outer(np.exp(x)-mean, np.exp(x)-mean)\n",
    "F_ln = np.array([cov_ln(y) for y in Y])\n",
    "Var_res = np.sum(c*W[:, None, None]*F_ln, axis=0)\n",
    "print(f'Estimated Σ: {Var_res}\\n')"
   ]
  }
 ],
 "metadata": {
  "kernelspec": {
   "display_name": "base",
   "language": "python",
   "name": "python3"
  },
  "language_info": {
   "codemirror_mode": {
    "name": "ipython",
    "version": 3
   },
   "file_extension": ".py",
   "mimetype": "text/x-python",
   "name": "python",
   "nbconvert_exporter": "python",
   "pygments_lexer": "ipython3",
   "version": "3.9.15"
  }
 },
 "nbformat": 4,
 "nbformat_minor": 2
}
